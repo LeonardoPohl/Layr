{
 "cells": [
  {
   "attachments": {},
   "cell_type": "markdown",
   "metadata": {},
   "source": [
    "# Layr\n",
    "\n",
    "A simple little app which alows for the creation of 3d-elevation wallart cutouts\n",
    "\n",
    "## Setup\n",
    "\n",
    "Download all .tif files from https://visibleearth.nasa.gov/images/73934/topography and paste into elevation folder"
   ]
  },
  {
   "cell_type": "code",
   "execution_count": null,
   "metadata": {},
   "outputs": [],
   "source": [
    "from pathlib import Path\n"
   ]
  }
 ],
 "metadata": {
  "language_info": {
   "name": "python"
  },
  "orig_nbformat": 4
 },
 "nbformat": 4,
 "nbformat_minor": 2
}
